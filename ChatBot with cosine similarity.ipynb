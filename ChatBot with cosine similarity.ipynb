{
 "cells": [
  {
   "cell_type": "markdown",
   "id": "2a2a9d7f",
   "metadata": {},
   "source": [
    "# chatbot usinng cosine similarity"
   ]
  },
  {
   "cell_type": "code",
   "execution_count": 2,
   "id": "7bc8bd76",
   "metadata": {},
   "outputs": [],
   "source": [
    "from sklearn.metrics.pairwise import cosine_similarity\n",
    "from sklearn.feature_extraction.text import TfidfVectorizer"
   ]
  },
  {
   "cell_type": "markdown",
   "id": "a995f1b5",
   "metadata": {},
   "source": [
    "## Starting the chatbot"
   ]
  },
  {
   "cell_type": "code",
   "execution_count": 81,
   "id": "c5c4ab78",
   "metadata": {},
   "outputs": [],
   "source": [
    "welcome_words_input = ('hey', 'hello', 'hi')\n",
    "welcome_words_ouput = ('hey', 'hello', 'hi', 'how are you?', 'welcome', 'how are you doing?')"
   ]
  },
  {
   "cell_type": "code",
   "execution_count": 82,
   "id": "65cf74db",
   "metadata": {},
   "outputs": [],
   "source": [
    "import random\n",
    "def welcome_message(text):\n",
    "    for word in text.split():\n",
    "        if word.lower() in welcome_words_input:\n",
    "            return random.choice(welcome_words_ouput)"
   ]
  },
  {
   "cell_type": "markdown",
   "id": "13418719",
   "metadata": {},
   "source": [
    "[0]: 'This is the first document.'\n",
    "[4]: 'Is this the first document?'\n",
    "- here we have a question and an answer to it then the similarity is 100%"
   ]
  },
  {
   "cell_type": "code",
   "execution_count": 28,
   "id": "b70520f4",
   "metadata": {},
   "outputs": [],
   "source": [
    "import spacy\n",
    "import en_core_web_sm\n",
    "nlp = spacy.load('en_core_web_sm')\n",
    "import nltk\n",
    "from goose3 import Goose\n",
    "g = Goose()\n",
    "url = 'https://en.wikipedia.org/wiki/Artificial_intelligence'\n",
    "article = g.extract(url)"
   ]
  },
  {
   "cell_type": "code",
   "execution_count": 24,
   "id": "d877b25b",
   "metadata": {},
   "outputs": [],
   "source": [
    "def preprocessing(sentence):\n",
    "    # a A\n",
    "    sentence = sentence.lower()\n",
    "    sentence = sentence.replace('.', '')\n",
    "    sentence = sentence.replace('[', '')\n",
    "    tokens = []\n",
    "    tokens = [token.text for token in nlp(sentence) if not (token.is_stop or token.like_num or token.is_punct or token.is_space or len(token) == 1)]\n",
    "    tokens = ' '.join([element for element in tokens])\n",
    "\n",
    "    return tokens"
   ]
  },
  {
   "cell_type": "code",
   "execution_count": 25,
   "id": "5167589b",
   "metadata": {},
   "outputs": [],
   "source": [
    "original_sentences = [sentence for sentence in nltk.sent_tokenize(article.cleaned_text)]"
   ]
  },
  {
   "cell_type": "code",
   "execution_count": 93,
   "id": "a315329c",
   "metadata": {},
   "outputs": [],
   "source": [
    "def answer(user_text, threshold = 0.2):\n",
    "    cleaned_sentences = []\n",
    "    user_text = preprocessing(user_text)\n",
    "    for sentence in original_sentences:\n",
    "        pre_sentence=preprocessing(sentence)\n",
    "        if(user_text != pre_sentence and (len(pre_sentence)-len(user_text))>6):\n",
    "            cleaned_sentences.append(pre_sentence)\n",
    "    #print(cleaned_sentences)\n",
    "\n",
    "    chatbot_answer = ''\n",
    "    #print(user_text)\n",
    "    cleaned_sentences.append(user_text)\n",
    "    #print(cleaned_sentences[-1])\n",
    "\n",
    "    tfidf = TfidfVectorizer()\n",
    "    X_sentences = tfidf.fit_transform(cleaned_sentences)\n",
    "#     print(type(X_sentences))\n",
    "    #print(X_sentences.toarray()[-1])\n",
    "    similarity = cosine_similarity(X_sentences[-1], X_sentences)\n",
    "#     print(similarity)\n",
    "    sentence_index = similarity.argsort()[0][-2] #to prevent getting the appended same sentence\n",
    "#     print(sentence_index)\n",
    "#     print(similarity[0][sentence_index])\n",
    "\n",
    "    if similarity[0][sentence_index] < threshold:\n",
    "        chatbot_answer += 'Sorry, no answer was found!'\n",
    "    else:\n",
    "        chatbot_answer += original_sentences[sentence_index]\n",
    "\n",
    "    return chatbot_answer  "
   ]
  },
  {
   "cell_type": "code",
   "execution_count": 92,
   "id": "5e20cc4c",
   "metadata": {},
   "outputs": [
    {
     "name": "stdout",
     "output_type": "stream",
     "text": [
      "<class 'scipy.sparse.csr.csr_matrix'>\n"
     ]
    },
    {
     "data": {
      "text/plain": [
       "'[u][48]\\n\\nThe issue is not resolved: sub-symbolic reasoning can make many of the same inscrutable mistakes that human intuition does, such as algorithmic bias.'"
      ]
     },
     "execution_count": 92,
     "metadata": {},
     "output_type": "execute_result"
    }
   ],
   "source": [
    "answer(\"ai\")"
   ]
  },
  {
   "cell_type": "code",
   "execution_count": 47,
   "id": "23dc3324",
   "metadata": {},
   "outputs": [
    {
     "data": {
      "text/plain": [
       "str"
      ]
     },
     "execution_count": 47,
     "metadata": {},
     "output_type": "execute_result"
    }
   ],
   "source": [
    "type(preprocessing(original_sentences[-2]))"
   ]
  },
  {
   "cell_type": "code",
   "execution_count": 75,
   "id": "a3e62288",
   "metadata": {},
   "outputs": [
    {
     "data": {
      "text/plain": [
       "['Artificial intelligence (AI) is intelligence demonstrated by machines, as opposed to the natural intelligence displayed by animals including humans.',\n",
       " 'AI research has been defined as the field of study of intelligent agents, which refers to any system that perceives its environment and takes actions that maximize its chance of achieving its goals.',\n",
       " '[a]\\n\\nThe term \"artificial intelligence\" had previously been used to describe machines that mimic and display \"human\" cognitive skills that are associated with the human mind, such as \"learning\" and \"problem-solving\".',\n",
       " 'This definition has since been rejected by major AI researchers who now describe AI in terms of rationality and acting rationally, which does not limit how intelligence can be articulated.',\n",
       " '[b]\\n\\nAI applications include advanced web search engines (e.g., Google), recommendation systems (used by YouTube, Amazon and Netflix), understanding human speech (such as Siri and Alexa), self-driving cars (e.g., Tesla), automated decision-making and competing at the highest level in strategic game systems (such as chess and Go).',\n",
       " 'As machines become increasingly capable, tasks considered to require \"intelligence\" are often removed from the definition of AI, a phenomenon known as the AI effect.',\n",
       " 'For instance, optical character recognition is frequently excluded from things considered to be AI, having become a routine technology.',\n",
       " 'Artificial intelligence was founded as an academic discipline in 1956, and in the years since has experienced several waves of optimism,[7] followed by disappointment and the loss of funding (known as an \"AI winter\"),[8][9] followed by new approaches, success and renewed funding.',\n",
       " '[7] AI research has tried and discarded many different approaches since its founding, including simulating the brain, modeling human problem solving, formal logic, large databases of knowledge and imitating animal behavior.',\n",
       " 'In the first decades of the 21st century, highly mathematical-statistical machine learning has dominated the field, and this technique has proved highly successful, helping to solve many challenging problems throughout industry and academia.',\n",
       " '[11]\\n\\nThe various sub-fields of AI research are centered around particular goals and the use of particular tools.',\n",
       " 'The traditional goals of AI research include reasoning, knowledge representation, planning, learning, natural language processing, perception, and the ability to move and manipulate objects.',\n",
       " \"[c] General intelligence (the ability to solve an arbitrary problem) is among the field's long-term goals.\",\n",
       " '[12] To solve these problems, AI researchers have adapted and integrated a wide range of problem-solving techniques—including search and mathematical optimization, formal logic, artificial neural networks, and methods based on statistics, probability and economics.',\n",
       " 'AI also draws upon computer science, psychology, linguistics, philosophy, and many other fields.',\n",
       " 'The field was founded on the assumption that human intelligence \"can be so precisely described that a machine can be made to simulate it\".',\n",
       " '[d] This raised philosophical arguments about the mind and the ethical consequences of creating artificial beings endowed with human-like intelligence; these issues have previously been explored by myth, fiction and philosophy since antiquity.',\n",
       " 'Computer scientists and philosophers have since suggested that AI may become an existential risk to humanity if its rational capacities are not steered towards beneficial goals.',\n",
       " \"[e]\\n\\nArtificial beings with intelligence appeared as storytelling devices in antiquity,[15] and have been common in fiction, as in Mary Shelley's Frankenstein or Karel Čapek's R.U.R.\",\n",
       " 'These characters and their fates raised many of the same issues now discussed in the ethics of artificial intelligence.',\n",
       " 'The study of mechanical or \"formal\" reasoning began with philosophers and mathematicians in antiquity.',\n",
       " 'The study of mathematical logic led directly to Alan Turing\\'s theory of computation, which suggested that a machine, by shuffling symbols as simple as \"0\" and \"1\", could simulate any conceivable act of mathematical deduction.',\n",
       " 'This insight that digital computers can simulate any process of formal reasoning is known as the Church–Turing thesis.',\n",
       " 'The Church-Turing thesis, along with concurrent discoveries in neurobiology, information theory and cybernetics, led researchers to consider the possibility of building an electronic brain.',\n",
       " '[19] The first work that is now generally recognized as AI was McCullouch and Pitts\\' 1943 formal design for Turing-complete \"artificial neurons\".',\n",
       " 'By the 1950s, two visions for how to achieve machine intelligence emerged.',\n",
       " 'One vision, known as Symbolic AI or GOFAI, was to use computers to create a symbolic representation of the world and systems that could reason about the world.',\n",
       " 'Proponents included Allen Newell, Herbert A. Simon, and Marvin Minsky.',\n",
       " 'Closely associated with this approach was the \"heuristic search\" approach, which likened intelligence to a problem of exploring a space of possibilities for answers.',\n",
       " 'The second vision, known as the connectionist approach, sought to achieve intelligence through learning.',\n",
       " 'Proponents of this approach, most prominently Frank Rosenblatt, sought to connect Perceptron in ways inspired by connections of neurons.',\n",
       " 'James Manyika and others have compared the two approaches to the mind (Symbolic AI) and the brain (connectionist).',\n",
       " 'Manyika argues that symbolic approaches dominated the push for artificial intelligence in this period, due in part to its connection to intellectual traditions of Descarte, Boole, Gottlob Frege, Bertrand Russell, and others.',\n",
       " 'Connectionist approaches based on cybernetics or artificial neural networks were pushed to the background but have gained new prominence in recent decades.',\n",
       " 'The field of AI research was born at a workshop at Dartmouth College in 1956.',\n",
       " '[f][25] The attendees became the founders and leaders of AI research.',\n",
       " '[g] They and their students produced programs that the press described as \"astonishing\":[h] computers were learning checkers strategies, solving word problems in algebra, proving logical theorems and speaking English.',\n",
       " '[i][27] By the middle of the 1960s, research in the U.S. was heavily funded by the Department of Defense[28] and laboratories had been established around the world.',\n",
       " 'Researchers in the 1960s and the 1970s were convinced that symbolic approaches would eventually succeed in creating a machine with artificial general intelligence and considered this the goal of their field.',\n",
       " 'Herbert Simon predicted, \"machines will be capable, within twenty years, of doing any work a man can do\".',\n",
       " '[31] Marvin Minsky agreed, writing, \"within a generation ... the problem of creating \\'artificial intelligence\\' will substantially be solved\".',\n",
       " '[32]\\n\\nThey failed to recognize the difficulty of some of the remaining tasks.',\n",
       " 'Progress slowed and in 1974, in response to the criticism of Sir James Lighthill and ongoing pressure from the US Congress to fund more productive projects, both the U.S. and British governments cut off exploratory research in AI.',\n",
       " 'The next few years would later be called an \"AI winter\", a period when obtaining funding for AI projects was difficult.',\n",
       " '[8]\\n\\nIn the early 1980s, AI research was revived by the commercial success of expert systems,[34] a form of AI program that simulated the knowledge and analytical skills of human experts.',\n",
       " 'By 1985, the market for AI had reached over a billion dollars.',\n",
       " \"At the same time, Japan's fifth generation computer project inspired the U.S and British governments to restore funding for academic research.\",\n",
       " '[7] However, beginning with the collapse of the Lisp Machine market in 1987, AI once again fell into disrepute, and a second, longer-lasting winter began.',\n",
       " '[9]\\n\\nMany researchers began to doubt that the symbolic approach would be able to imitate all the processes of human cognition, especially perception, robotics, learning and pattern recognition.',\n",
       " 'A number of researchers began to look into \"sub-symbolic\" approaches to specific AI problems.',\n",
       " 'Robotics researchers, such as Rodney Brooks, rejected symbolic AI and focused on the basic engineering problems that would allow robots to move, survive, and learn their environment.',\n",
       " '[j] Interest in neural networks and \"connectionism\" was revived by Geoffrey Hinton, David Rumelhart and others in the middle of the 1980s.',\n",
       " '[40] Soft computing tools were developed in the 80s, such as neural networks, fuzzy systems, Grey system theory, evolutionary computation and many tools drawn from statistics or mathematical optimization.',\n",
       " 'AI gradually restored its reputation in the late 1990s and early 21st century by finding specific solutions to specific problems.',\n",
       " 'The narrow focus allowed researchers to produce verifiable results, exploit more mathematical methods, and collaborate with other fields (such as statistics, economics and mathematics).',\n",
       " '[41] By 2000, solutions developed by AI researchers were being widely used, although in the 1990s they were rarely described as \"artificial intelligence\".',\n",
       " '[11]\\n\\nFaster computers, algorithmic improvements, and access to large amounts of data enabled advances in machine learning and perception; data-hungry deep learning methods started to dominate accuracy benchmarks around 2012.',\n",
       " 'According to Bloomberg\\'s Jack Clark, 2015 was a landmark year for artificial intelligence, with the number of software projects that use AI within Google increased from a \"sporadic usage\" in 2012 to more than 2,700 projects.',\n",
       " '[k] He attributes this to an increase in affordable neural networks, due to a rise in cloud computing infrastructure and to an increase in research tools and datasets.',\n",
       " 'In a 2017 survey, one in five companies reported they had \"incorporated AI in some offerings or processes\".',\n",
       " '[43] The amount of research into AI (measured by total publications) increased by 50% in the years 2015–2019.',\n",
       " 'Numerous academic researchers became concerned that AI was no longer pursuing the original goal of creating versatile, fully intelligent machines.',\n",
       " 'Much of current research involves statistical AI, which is overwhelmingly used to solve specific problems, even highly successful techniques such as deep learning.',\n",
       " 'This concern has led to the subfield of artificial general intelligence (or \"AGI\"), which had several well-funded institutions by the 2010s.',\n",
       " '[12]\\n\\nThe general problem of simulating (or creating) intelligence has been broken down into sub-problems.',\n",
       " 'These consist of particular traits or capabilities that researchers expect an intelligent system to display.',\n",
       " 'The traits described below have received the most attention.',\n",
       " '[c]\\n\\nEarly researchers developed algorithms that imitated step-by-step reasoning that humans use when they solve puzzles or make logical deductions.',\n",
       " '[45] By the late 1980s and 1990s, AI research had developed methods for dealing with uncertain or incomplete information, employing concepts from probability and economics.',\n",
       " '[46]\\n\\nMany of these algorithms proved to be insufficient for solving large reasoning problems because they experienced a \"combinatorial explosion\": they became exponentially slower as the problems grew larger.',\n",
       " '[47] Even humans rarely use the step-by-step deduction that early AI research could model.',\n",
       " 'They solve most of their problems using fast, intuitive judgments.',\n",
       " '[48]\\n\\nKnowledge representation and knowledge engineering[49] allow AI programs to answer questions intelligently and make deductions about real-world facts.',\n",
       " 'A representation of \"what exists\" is an ontology: the set of objects, relations, concepts, and properties formally described so that software agents can interpret them.',\n",
       " 'The most general ontologies are called upper ontologies, which attempt to provide a foundation for all other knowledge and act as mediators between domain ontologies that cover specific knowledge about a particular knowledge domain (field of interest or area of concern).',\n",
       " 'A truly intelligent program would also need access to commonsense knowledge; the set of facts that an average person knows.',\n",
       " 'The semantics of an ontology is typically represented in description logic, such as the Web Ontology Language.',\n",
       " '[51]\\n\\nAI research has developed tools to represent specific domains, such as objects, properties, categories and relations between objects;[51] situations, events, states and time;[52] causes and effects;[53] knowledge about knowledge (what we know about what other people know);.',\n",
       " '[54] default reasoning (things that humans assume are true until they are told differently and will remain true even when other facts are changing); [55] as well as other domains.',\n",
       " 'Among the most difficult problems in AI are: the breadth of commonsense knowledge (the number of atomic facts that the average person knows is enormous);[56] and the sub-symbolic form of most commonsense knowledge (much of what people know is not represented as \"facts\" or \"statements\" that they could express verbally).',\n",
       " '[48]\\n\\nFormal knowledge representations are used in content-based indexing and retrieval, scene interpretation, clinical decision support, knowledge discovery (mining \"interesting\" and actionable inferences from large databases), and other areas.',\n",
       " 'An intelligent agent that can plan makes a representation of the state of the world, makes predictions about how their actions will change it and make choices that maximize the utility (or \"value\") of the available choices.',\n",
       " '[62] In classical planning problems, the agent can assume that it is the only system acting in the world, allowing the agent to be certain of the consequences of its actions.',\n",
       " '[63] However, if the agent is not the only actor, then it requires that the agent reason under uncertainty, and continuously re-assess its environment and adapt.',\n",
       " '[64] Multi-agent planning uses the cooperation and competition of many agents to achieve a given goal.',\n",
       " 'Emergent behavior such as this is used by evolutionary algorithms and swarm intelligence.',\n",
       " \"[65]\\n\\nMachine learning (ML), a fundamental concept of AI research since the field's inception,[l] is the study of computer algorithms that improve automatically through experience.\",\n",
       " '[m]\\n\\nUnsupervised learning finds patterns in a stream of input.',\n",
       " 'Supervised learning requires a human to label the input data first, and comes in two main varieties: classification and numerical regression.',\n",
       " 'Classification is used to determine what category something belongs in—the program sees a number of examples of things from several categories and will learn to classify new inputs.',\n",
       " 'Regression is the attempt to produce a function that describes the relationship between inputs and outputs and predicts how the outputs should change as the inputs change.',\n",
       " 'Both classifiers and regression learners can be viewed as \"function approximators\" trying to learn an unknown (possibly implicit) function; for example, a spam classifier can be viewed as learning a function that maps from the text of an email to one of two categories, \"spam\" or \"not spam\".',\n",
       " '[69] In reinforcement learning the agent is rewarded for good responses and punished for bad ones.',\n",
       " 'The agent classifies its responses to form a strategy for operating in its problem space.',\n",
       " '[70] Transfer learning is when the knowledge gained from one problem is applied to a new problem.',\n",
       " 'Computational learning theory can assess learners by computational complexity, by sample complexity (how much data is required), or by other notions of optimization.',\n",
       " 'Natural language processing (NLP)[73] allows machines to read and understand human language.',\n",
       " 'A sufficiently powerful natural language processing system would enable natural-language user interfaces and the acquisition of knowledge directly from human-written sources, such as newswire texts.',\n",
       " 'Some straightforward applications of NLP include information retrieval, question answering and machine translation.',\n",
       " '[74]\\n\\nSymbolic AI used formal syntax to translate the deep structure of sentences into logic.',\n",
       " 'This failed to produce useful applications, due to the intractability of logic[47] and the breadth of commonsense knowledge.',\n",
       " '[56] Modern statistical techniques include co-occurrence frequencies (how often one word appears near another), \"Keyword spotting\" (searching for a particular word to retrieve information), transformer-based deep learning (which finds patterns in text), and others.',\n",
       " '[75] They have achieved acceptable accuracy at the page or paragraph level, and, by 2019, could generate coherent text.',\n",
       " 'Machine perception[77] is the ability to use input from sensors (such as cameras, microphones, wireless signals, and active lidar, sonar, radar, and tactile sensors) to deduce aspects of the world.',\n",
       " 'Applications include speech recognition,[78] facial recognition, and object recognition.',\n",
       " '[79] Computer vision is the ability to analyze visual input.',\n",
       " '[80]\\n\\nAI is heavily used in robotics.',\n",
       " '[81] Localization is how a robot knows its location and maps its environment.',\n",
       " \"When given a small, static, and visible environment, this is easy; however, dynamic environments, such as (in endoscopy) the interior of a patient's breathing body, pose a greater challenge.\",\n",
       " '[82]\\n\\nMotion planning is the process of breaking down a movement task into \"primitives\" such as individual joint movements.',\n",
       " 'Such movement often involves compliant motion, a process where movement requires maintaining physical contact with an object.',\n",
       " 'Robots can learn from experience how to move efficiently despite the presence of friction and gear slippage.',\n",
       " '[83]\\n\\nAffective computing is an interdisciplinary umbrella that comprises systems that recognize, interpret, process or simulate human feeling, emotion and mood.',\n",
       " '[85] For example, some virtual assistants are programmed to speak conversationally or even to banter humorously; it makes them appear more sensitive to the emotional dynamics of human interaction, or to otherwise facilitate human–computer interaction.',\n",
       " 'However, this tends to give naïve users an unrealistic conception of how intelligent existing computer agents actually are.',\n",
       " 'Moderate successes related to affective computing include textual sentiment analysis and, more recently, multimodal sentiment analysis), wherein AI classifies the affects displayed by a videotaped subject.',\n",
       " 'A machine with general intelligence can solve a wide variety of problems with breadth and versatility similar to human intelligence.',\n",
       " 'There are several competing ideas about how to develop artificial general intelligence.',\n",
       " 'Hans Moravec and Marvin Minsky argue that work in different individual domains can be incorporated into an advanced multi-agent system or cognitive architecture with general intelligence.',\n",
       " '[88] Pedro Domingos hopes that there is a conceptually straightforward, but mathematically difficult, \"master algorithm\" that could lead to AGI.',\n",
       " 'Others believe that anthropomorphic features like an artificial brain[90] or simulated child development[n] will someday reach a critical point where general intelligence emerges.',\n",
       " 'Many problems in AI can be solved theoretically by intelligently searching through many possible solutions:[91] Reasoning can be reduced to performing a search.',\n",
       " 'For example, logical proof can be viewed as searching for a path that leads from premises to conclusions, where each step is the application of an inference rule.',\n",
       " '[92] Planning algorithms search through trees of goals and subgoals, attempting to find a path to a target goal, a process called means-ends analysis.',\n",
       " '[93] Robotics algorithms for moving limbs and grasping objects use local searches in configuration space.',\n",
       " '[94]\\n\\nSimple exhaustive searches[95] are rarely sufficient for most real-world problems: the search space (the number of places to search) quickly grows to astronomical numbers.',\n",
       " 'The result is a search that is too slow or never completes.',\n",
       " 'The solution, for many problems, is to use \"heuristics\" or \"rules of thumb\" that prioritize choices in favor of those more likely to reach a goal and to do so in a shorter number of steps.',\n",
       " 'In some search methodologies, heuristics can also serve to eliminate some choices unlikely to lead to a goal (called \"pruning the search tree\").',\n",
       " 'Heuristics supply the program with a \"best guess\" for the path on which the solution lies.',\n",
       " '[96] Heuristics limit the search for solutions into a smaller sample size.',\n",
       " 'A very different kind of search came to prominence in the 1990s, based on the mathematical theory of optimization.',\n",
       " 'For many problems, it is possible to begin the search with some form of a guess and then refine the guess incrementally until no more refinements can be made.',\n",
       " 'These algorithms can be visualized as blind hill climbing: we begin the search at a random point on the landscape, and then, by jumps or steps, we keep moving our guess uphill, until we reach the top.',\n",
       " 'Other related optimization algorithms include random optimization, beam search and metaheuristics like simulated annealing.',\n",
       " '[98] Evolutionary computation uses a form of optimization search.',\n",
       " 'For example, they may begin with a population of organisms (the guesses) and then allow them to mutate and recombine, selecting only the fittest to survive each generation (refining the guesses).',\n",
       " 'Classic evolutionary algorithms include genetic algorithms, gene expression programming, and genetic programming.',\n",
       " '[99] Alternatively, distributed search processes can coordinate via swarm intelligence algorithms.',\n",
       " 'Two popular swarm algorithms used in search are particle swarm optimization (inspired by bird flocking) and ant colony optimization (inspired by ant trails).',\n",
       " '[100]\\n\\nLogic[101] is used for knowledge representation and problem-solving, but it can be applied to other problems as well.',\n",
       " 'For example, the satplan algorithm uses logic for planning[102] and inductive logic programming is a method for learning.',\n",
       " '[103]\\n\\nSeveral different forms of logic are used in AI research.',\n",
       " 'Propositional logic[104] involves truth functions such as \"or\" and \"not\".',\n",
       " 'First-order logic[105] adds quantifiers and predicates and can express facts about objects, their properties, and their relations with each other.',\n",
       " 'Fuzzy logic assigns a \"degree of truth\" (between 0 and 1) to vague statements such as \"Alice is old\" (or rich, or tall, or hungry), that are too linguistically imprecise to be completely true or false.',\n",
       " '[106] Default logics, non-monotonic logics and circumscription are forms of logic designed to help with default reasoning and the qualification problem.',\n",
       " '[55] Several extensions of logic have been designed to handle specific domains of knowledge, such as description logics;[51] situation calculus, event calculus and fluent calculus (for representing events and time);[52] causal calculus;[53] belief calculus (belief revision); and modal logics.',\n",
       " '[54] Logics to model contradictory or inconsistent statements arising in multi-agent systems have also been designed, such as paraconsistent logics.',\n",
       " '[107]\\n\\nMany problems in AI (including in reasoning, planning, learning, perception, and robotics) require the agent to operate with incomplete or uncertain information.',\n",
       " 'AI researchers have devised a number of tools to solve these problems using methods from probability theory and economics.',\n",
       " '[108] Bayesian networks[109] are a very general tool that can be used for various problems, including reasoning (using the Bayesian inference algorithm),[o][111] learning (using the expectation-maximization algorithm),[p][113] planning (using decision networks)[114] and perception (using dynamic Bayesian networks).',\n",
       " '[115] Probabilistic algorithms can also be used for filtering, prediction, smoothing and finding explanations for streams of data, helping perception systems to analyze processes that occur over time (e.g., hidden Markov models or Kalman filters).',\n",
       " '[115]\\n\\nA key concept from the science of economics is \"utility\", a measure of how valuable something is to an intelligent agent.',\n",
       " 'Precise mathematical tools have been developed that analyze how an agent can make choices and plan, using decision theory, decision analysis,[116] and information value theory.',\n",
       " '[117] These tools include models such as Markov decision processes,[118] dynamic decision networks,[115] game theory and mechanism design.',\n",
       " '[119]\\n\\nThe simplest AI applications can be divided into two types: classifiers (\"if shiny then diamond\") and controllers (\"if diamond then pick up\").',\n",
       " 'Controllers do, however, also classify conditions before inferring actions, and therefore classification forms a central part of many AI systems.',\n",
       " 'Classifiers are functions that use pattern matching to determine the closest match.',\n",
       " 'They can be tuned according to examples, making them very attractive for use in AI.',\n",
       " 'These examples are known as observations or patterns.',\n",
       " 'In supervised learning, each pattern belongs to a certain predefined class.',\n",
       " 'A class is a decision that has to be made.',\n",
       " 'All the observations combined with their class labels are known as a data set.',\n",
       " 'When a new observation is received, that observation is classified based on previous experience.',\n",
       " '[120]\\n\\nA classifier can be trained in various ways; there are many statistical and machine learning approaches.',\n",
       " 'The decision tree is the simplest and most widely used symbolic machine learning algorithm.',\n",
       " '[121] K-nearest neighbor algorithm was the most widely used analogical AI until the mid-1990s.',\n",
       " '[122] Kernel methods such as the support vector machine (SVM) displaced k-nearest neighbor in the 1990s.',\n",
       " '[123] The naive Bayes classifier is reportedly the \"most widely used learner\" at Google, due in part to its scalability.',\n",
       " '[125] Neural networks are also used for classification.',\n",
       " '[126]\\n\\nClassifier performance depends greatly on the characteristics of the data to be classified, such as the dataset size, distribution of samples across classes, dimensionality, and the level of noise.',\n",
       " 'Model-based classifiers perform well if the assumed model is an extremely good fit for the actual data.',\n",
       " 'Otherwise, if no matching model is available, and if accuracy (rather than speed or scalability) is the sole concern, conventional wisdom is that discriminative classifiers (especially SVM) tend to be more accurate than model-based classifiers such as \"naive Bayes\" on most practical data sets.',\n",
       " '[127]\\n\\nNeural networks[126] were inspired by the architecture of neurons in the human brain.',\n",
       " 'A simple \"neuron\" N accepts input from other neurons, each of which, when activated (or \"fired\"), casts a weighted \"vote\" for or against whether neuron N should itself activate.',\n",
       " 'Learning requires an algorithm to adjust these weights based on the training data; one simple algorithm (dubbed \"fire together, wire together\") is to increase the weight between two connected neurons when the activation of one triggers the successful activation of another.',\n",
       " 'Neurons have a continuous spectrum of activation; in addition, neurons can process inputs in a nonlinear way rather than weighing straightforward votes.',\n",
       " 'Modern neural networks model complex relationships between inputs and outputs and find patterns in data.',\n",
       " 'They can learn continuous functions and even digital logical operations.',\n",
       " 'Neural networks can be viewed as a type of mathematical optimization—they perform gradient descent on a multi-dimensional topology that was created by training the network.',\n",
       " 'The most common training technique is the backpropagation algorithm.',\n",
       " '[128] Other learning techniques for neural networks are Hebbian learning (\"fire together, wire together\"), GMDH or competitive learning.',\n",
       " '[129]\\n\\nThe main categories of networks are acyclic or feedforward neural networks (where the signal passes in only one direction) and recurrent neural networks (which allow feedback and short-term memories of previous input events).',\n",
       " 'Among the most popular feedforward networks are perceptrons, multi-layer perceptrons and radial basis networks.',\n",
       " \"[130]\\n\\nDeep learning[132] uses several layers of neurons between the network's inputs and outputs.\",\n",
       " 'The multiple layers can progressively extract higher-level features from the raw input.',\n",
       " 'For example, in image processing, lower layers may identify edges, while higher layers may identify the concepts relevant to a human such as digits or letters or faces.',\n",
       " 'Deep learning has drastically improved the performance of programs in many important subfields of artificial intelligence, including computer vision, speech recognition, image classification and others.',\n",
       " 'Deep learning often uses convolutional neural networks for many or all of its layers.',\n",
       " \"In a convolutional layer, each neuron receives input from only a restricted area of the previous layer called the neuron's receptive field.\",\n",
       " 'This can substantially reduce the number of weighted connections between neurons, and creates a hierarchy similar to the organization of the animal visual cortex.',\n",
       " 'In a recurrent neural network the signal will propagate through a layer more than once;[137] thus, an RNN is an example of deep learning.',\n",
       " 'RNNs can be trained by gradient descent,[139] however long-term gradients which are back-propagated can \"vanish\" (that is, they can tend to zero) or \"explode\" (that is, they can tend to infinity), known as the vanishing gradient problem.',\n",
       " '[140] The long short term memory (LSTM) technique can prevent this in most cases.',\n",
       " '[141]\\n\\nSpecialized languages for artificial intelligence have been developed, such as Lisp, Prolog, TensorFlow and many others.',\n",
       " 'Hardware developed for AI includes AI accelerators and neuromorphic computing.',\n",
       " 'AI is relevant to any intellectual task.',\n",
       " 'Modern artificial intelligence techniques are pervasive and are too numerous to list here.',\n",
       " 'Frequently, when a technique reaches mainstream use, it is no longer considered artificial intelligence; this phenomenon is described as the AI effect.',\n",
       " 'In the 2010s, AI applications were at the heart of the most commercially successful areas of computing, and have become a ubiquitous feature of daily life.',\n",
       " \"AI is used in search engines (such as Google Search), targeting online advertisements,[145] recommendation systems (offered by Netflix, YouTube or Amazon), driving internet traffic, targeted advertising (AdSense, Facebook), virtual assistants (such as Siri or Alexa), autonomous vehicles (including drones and self-driving cars), automatic language translation (Microsoft Translator, Google Translate), facial recognition (Apple's Face ID or Microsoft's DeepFace), image labeling (used by Facebook, Apple's iPhoto and TikTok) and spam filtering.\",\n",
       " 'There are also thousands of successful AI applications used to solve problems for specific industries or institutions.',\n",
       " 'A few examples are energy storage, deepfakes, medical diagnosis, military logistics, or supply chain management.',\n",
       " \"Game playing has been a test of AI's strength since the 1950s.\",\n",
       " 'Deep Blue became the first computer chess-playing system to beat a reigning world chess champion, Garry Kasparov, on 11 May 1997.',\n",
       " 'In 2011, in a Jeopardy!',\n",
       " \"quiz show exhibition match, IBM's question answering system, Watson, defeated the two greatest Jeopardy!\",\n",
       " 'champions, Brad Rutter and Ken Jennings, by a significant margin.',\n",
       " 'In March 2016, AlphaGo won 4 out of 5 games of Go in a match with Go champion Lee Sedol, becoming the first computer Go-playing system to beat a professional Go player without handicaps.',\n",
       " '[153] Other programs handle imperfect-information games; such as for poker at a superhuman level, Pluribus[q] and Cepheus.',\n",
       " 'DeepMind in the 2010s developed a \"generalized artificial intelligence\" that could learn many diverse Atari games on its own.',\n",
       " 'By 2020, Natural Language Processing systems such as the enormous GPT-3 (then by far the largest artificial neural network) were matching human performance on pre-existing benchmarks, albeit without the system attaining a commonsense understanding of the contents of the benchmarks.',\n",
       " \"DeepMind's AlphaFold 2 (2020) demonstrated the ability to approximate, in hours rather than months, the 3D structure of a protein.\",\n",
       " 'Other applications predict the result of judicial decisions, create art (such as poetry or painting) and prove mathematical theorems.',\n",
       " 'In 2019, WIPO reported that AI was the most prolific emerging technology in terms of number of patent applications and granted patents, the Internet of things was estimated to be the largest in terms of market size.',\n",
       " 'It was followed, again in market size, by big data technologies, robotics, AI, 3D printing and the fifth generation of mobile services (5G).',\n",
       " '[160] Since AI emerged in the 1950s, 340000 AI-related patent applications were filed by innovators and 1.6 million scientific papers have been published by researchers, with the majority of all AI-related patent filings published since 2013.',\n",
       " 'Companies represent 26 out of the top 30 AI patent applicants, with universities or public research organizations accounting for the remaining four.',\n",
       " '[161] The ratio of scientific papers to inventions has significantly decreased from 8:1 in 2010 to 3:1 in 2016, which is attributed to be indicative of a shift from theoretical research to the use of AI technologies in commercial products and services.',\n",
       " 'Machine learning is the dominant AI technique disclosed in patents and is included in more than one-third of all identified inventions (134777 machine learning patents filed for a total of 167038 AI patents filed in 2016), with computer vision being the most popular functional application.',\n",
       " 'AI-related patents not only disclose AI techniques and applications, they often also refer to an application field or industry.',\n",
       " 'Twenty application fields were identified in 2016 and included, in order of magnitude: telecommunications (15 percent), transportation (15 percent), life and medical sciences (12 percent), and personal devices, computing and human–computer interaction (11 percent).',\n",
       " 'Other sectors included banking, entertainment, security, industry and manufacturing, agriculture, and networks (including social networks, smart cities and the Internet of things).',\n",
       " 'IBM has the largest portfolio of AI patents with 8,290 patent applications, followed by Microsoft with 5,930 patent applications.',\n",
       " \"[161]\\n\\nAI's decisions making abilities raises the questions of legal responsibility and copyright status of created works.\",\n",
       " 'This issues are being refined in various jurisdictions.',\n",
       " '[162]\\n\\nAlan Turing wrote in 1950 \"I propose to consider the question \\'can machines think\\'?\"',\n",
       " 'He advised changing the question from whether a machine \"thinks\", to \"whether or not it is possible for machinery to show intelligent behaviour\".',\n",
       " 'The only thing visible is the behavior of the machine, so it does not matter if the machine is conscious, or has a mind, or whether the intelligence is merely a \"simulation\" and not \"the real thing\".',\n",
       " 'He noted that we also don\\'t know these things about other people, but that we extend a \"polite convention\" that they are actually \"thinking\".',\n",
       " 'This idea forms the basis of the Turing test.',\n",
       " '[165][r]\\n\\nAI founder John McCarthy said: \"Artificial intelligence is not, by definition, simulation of human intelligence\".',\n",
       " 'Russell and Norvig agree with him, and criticize the Turing test.',\n",
       " 'They wrote: \"Aeronautical engineering texts do not define the goal of their field as making \\'machines that fly so exactly like pigeons that they can fool other pigeons.\\'\"',\n",
       " 'Other researchers and analysts disagree with the exclusive adoption of a separate definition of intelligence, and have argued that AI should simulate human intelligence by studying psychology or neurobiology.',\n",
       " '[s]\\n\\nThe intelligent agent paradigm[170] defines intelligent behavior in general, without reference to human beings.',\n",
       " 'An intelligent agent is a system that perceives its environment and takes actions that maximize its chances of success.',\n",
       " 'Any system that has goal-directed behavior can be analyzed as an intelligent agent: something as simple as a thermostat, as complex as a human being, as well as large systems such as firms, biomes or nations.',\n",
       " 'The intelligent agent paradigm became widely accepted during the 1990s, and currently serves as the definition of the field.',\n",
       " '[a]\\n\\nThe intelligent agent paradigm has other advantages for AI.',\n",
       " 'It provides a reliable and scientific way to test programs; researchers can directly compare or even combine different approaches to isolated problems, by asking which agent is best at maximizing a given \"goal function\".',\n",
       " 'It also gives them a common language to communicate with other fields – such as mathematical optimization (which is defined in terms of \"goals\") or economics (which uses the same definition of a \"rational agent\").',\n",
       " 'No established unifying theory or paradigm has guided AI research for most of its history.',\n",
       " '[t] The unprecedented success of statistical machine learning in the 2010s eclipsed all other approaches (so much so that some sources, especially in the business world, use the term \"artificial intelligence\" to mean \"machine learning with neural networks\").',\n",
       " 'This approach is mostly sub-symbolic, neat, soft and narrow (see below).',\n",
       " 'Critics argue that these questions may have to be revisited by future generations of AI researchers.',\n",
       " 'Symbolic AI (or \"GOFAI\") simulated the high-level conscious reasoning that people use when they solve puzzles, express legal reasoning and do mathematics.',\n",
       " 'They were highly successful at \"intelligent\" tasks such as algebra or IQ tests.',\n",
       " 'In the 1960s, Newell and Simon proposed the physical symbol systems hypothesis: \"A physical symbol system has the necessary and sufficient means of general intelligent action.',\n",
       " '\"[174]\\n\\nHowever, the symbolic approach failed dismally on many tasks that humans solve easily, such as learning, recognizing an object or commonsense reasoning.',\n",
       " 'Moravec\\'s paradox is the discovery that high-level \"intelligent\" tasks were easy for AI, but low level \"instinctive\" tasks were extremely difficult.',\n",
       " '[175] Philosopher Hubert Dreyfus had argued since the 1960s that human expertise depends on unconscious instinct rather than conscious symbol manipulation, and on having a \"feel\" for the situation, rather than explicit symbolic knowledge.',\n",
       " '[176] Although his arguments had been ridiculed and ignored when they were first presented, eventually, AI research came to agree.',\n",
       " '[u][48]\\n\\nThe issue is not resolved: sub-symbolic reasoning can make many of the same inscrutable mistakes that human intuition does, such as algorithmic bias.',\n",
       " 'Critics such as Noam Chomsky argue continuing research into symbolic AI will still be necessary to attain general intelligence, in part because sub-symbolic AI is a move away from explainable AI: it can be difficult or impossible to understand why a modern statistical AI program made a particular decision.',\n",
       " '\"Neats\" hope that intelligent behavior is described using simple, elegant principles (such as logic, optimization, or neural networks).',\n",
       " '\"Scruffies\" expect that it necessarily requires solving a large number of unrelated problems.',\n",
       " 'This issue was actively discussed in the 70s and 80s,[180] but in the 1990s mathematical methods and solid scientific standards became the norm, a transition that Russell and Norvig termed \"the victory of the neats\".',\n",
       " 'Finding a provably correct or optimal solution is intractable for many important problems.',\n",
       " '[47] Soft computing is a set of techniques, including genetic algorithms, fuzzy logic and neural networks, that are tolerant of imprecision, uncertainty, partial truth and approximation.',\n",
       " 'Soft computing was introduced in the late 80s and most successful AI programs in the 21st century are examples of soft computing with neural networks.',\n",
       " \"AI researchers are divided as to whether to pursue the goals of artificial general intelligence and superintelligence (general AI) directly or to solve as many specific problems as possible (narrow AI) in hopes these solutions will lead indirectly to the field's long-term goals General intelligence is difficult to define and difficult to measure, and modern AI has had more verifiable successes by focussing on specific problems with specific solutions.\",\n",
       " 'The experimental sub-field of artificial general intelligence studies this area exclusively.',\n",
       " 'The philosophy of mind does not know whether a machine can have a mind, consciousness and mental states, in the same sense that human beings do.',\n",
       " 'This issue considers the internal experiences of the machine, rather than its external behavior.',\n",
       " 'Mainstream AI research considers this issue irrelevant because it does not affect the goals of the field.',\n",
       " 'Stuart Russell and Peter Norvig observe that most AI researchers \"don\\'t care about the [philosophy of AI]—as long as the program works, they don\\'t care whether you call it a simulation of intelligence or real intelligence.\"',\n",
       " 'However, the question has become central to the philosophy of mind.',\n",
       " 'It is also typically the central question at issue in artificial intelligence in fiction.',\n",
       " 'David Chalmers identified two problems in understanding the mind, which he named the \"hard\" and \"easy\" problems of consciousness.',\n",
       " 'The easy problem is understanding how the brain processes signals, makes plans and controls behavior.',\n",
       " 'The hard problem is explaining how this feels or why it should feel like anything at all.',\n",
       " 'Human information processing is easy to explain, however, human subjective experience is difficult to explain.',\n",
       " 'For example, it is easy to imagine a color-blind person who has learned to identify which objects in their field of view are red, but it is not clear what would be required for the person to know what red looks like.',\n",
       " 'Computationalism is the position in the philosophy of mind that the human mind is an information processing system and that thinking is a form of computing.',\n",
       " 'Computationalism argues that the relationship between mind and body is similar or identical to the relationship between software and hardware and thus may be a solution to the mind-body problem.',\n",
       " 'This philosophical position was inspired by the work of AI researchers and cognitive scientists in the 1960s and was originally proposed by philosophers Jerry Fodor and Hilary Putnam.',\n",
       " 'Philosopher John Searle characterized this position as \"strong AI\": \"The appropriately programmed computer with the right inputs and outputs would thereby have a mind in exactly the same sense human beings have minds.',\n",
       " '\"[v] Searle counters this assertion with his Chinese room argument, which attempts to show that, even if a machine perfectly simulates human behavior, there is still no reason to suppose it also has a mind.',\n",
       " '[190]\\n\\nIf a machine has a mind and subjective experience, then it may also have sentience (the ability to feel), and if so, then it could also suffer, and thus it would be entitled to certain rights.',\n",
       " '[191] Any hypothetical robot rights would lie on a spectrum with animal rights and human rights.',\n",
       " \"This issue has been considered in fiction for centuries, and is now being considered by, for example, California's Institute for the Future, however, critics argue that the discussion is premature.\",\n",
       " 'A superintelligence, hyperintelligence, or superhuman intelligence, is a hypothetical agent that would possess intelligence far surpassing that of the brightest and most gifted human mind.',\n",
       " 'Superintelligence may also refer to the form or degree of intelligence possessed by such an agent.',\n",
       " 'If research into artificial general intelligence produced sufficiently intelligent software, it might be able to reprogram and improve itself.',\n",
       " 'The improved software would be even better at improving itself, leading to recursive self-improvement.',\n",
       " 'Its intelligence would increase exponentially in an intelligence explosion and could dramatically surpass humans.',\n",
       " 'Science fiction writer Vernor Vinge named this scenario the \"singularity\".',\n",
       " 'Because it is difficult or impossible to know the limits of intelligence or the capabilities of superintelligent machines, the technological singularity is an occurrence beyond which events are unpredictable or even unfathomable.',\n",
       " 'Robot designer Hans Moravec, cyberneticist Kevin Warwick, and inventor Ray Kurzweil have predicted that humans and machines will merge in the future into cyborgs that are more capable and powerful than either.',\n",
       " 'This idea, called transhumanism, has roots in Aldous Huxley and Robert Ettinger.',\n",
       " '[198]\\n\\nEdward Fredkin argues that \"artificial intelligence is the next stage in evolution\", an idea first proposed by Samuel Butler\\'s \"Darwin among the Machines\" as far back as 1863, and expanded upon by George Dyson in his book of the same name in 1998.',\n",
       " '[199]\\n\\nIn the past technology has tended to increase rather than reduce total employment, but economists acknowledge that \"we\\'re in uncharted territory\" with AI.',\n",
       " '[200] A survey of economists showed disagreement about whether the increasing use of robots and AI will cause a substantial increase in long-term unemployment, but they generally agree that it could be a net benefit if productivity gains are redistributed.',\n",
       " 'Subjective estimates of the risk vary widely; for example, Michael Osborne and Carl Benedikt Frey estimate 47% of U.S. jobs are at \"high risk\" of potential automation, while an OECD report classifies only 9% of U.S. jobs as \"high risk\".',\n",
       " '[w][203]\\n\\nUnlike previous waves of automation, many middle-class jobs may be eliminated by artificial intelligence; The Economist states that \"the worry that AI could do to white-collar jobs what steam power did to blue-collar ones during the Industrial Revolution\" is \"worth taking seriously\".',\n",
       " 'Jobs at extreme risk range from paralegals to fast food cooks, while job demand is likely to increase for care-related professions ranging from personal healthcare to the clergy.',\n",
       " '[205]\\n\\nAI provides a number of tools that are particularly useful for authoritarian governments: smart spyware, face recognition and voice recognition allow widespread surveillance; such surveillance allows machine learning to classify potential enemies of the state and can prevent them from hiding; recommendation systems can precisely target propaganda and misinformation for maximum effect; deepfakes aid in producing misinformation; advanced AI can make centralized decision making more competitive with liberal and decentralized systems such as markets.',\n",
       " 'Terrorists, criminals and rogue states may use other forms of weaponized AI such as advanced digital warfare and lethal autonomous weapons.',\n",
       " 'By 2015, over fifty countries were reported to be researching battlefield robots.',\n",
       " '[207]\\n\\nMachine-learning AI is also able to design tens of thousands of toxic molecules in a matter of hours.',\n",
       " '[208]\\n\\nAI programs can become biased after learning from real-world data.',\n",
       " 'It is not typically introduced by the system designers but is learned by the program, and thus the programmers are often unaware that the bias exists.',\n",
       " 'Bias can be inadvertently introduced by the way training data is selected.',\n",
       " 'It can also emerge from correlations: AI is used to classify individuals into groups and then make predictions assuming that the individual will resemble other members of the group.',\n",
       " 'In some cases, this assumption may be unfair.',\n",
       " '[211] An example of this is COMPAS, a commercial program widely used by U.S. courts to assess the likelihood of a defendant becoming a recidivist.',\n",
       " 'ProPublica claims that the COMPAS-assigned recidivism risk level of black defendants is far more likely to be overestimated than that of white defendants, despite the fact that the program was not told the races of the defendants.',\n",
       " 'Other examples where algorithmic bias can lead to unfair outcomes are when AI is used for credit rating or hiring.',\n",
       " 'At its 2022 Conference on Fairness, Accountability, and Transparency (ACM FAccT 2022) the Association for Computing Machinery, in Seoul, South Korea, presented and published findings recommending that until AI and robotics systems are demonstrated to be free of bias mistakes, they are unsafe and the use of self-learning neural networks trained on vast, unregulated sources of flawed internet data should be curtailed.',\n",
       " '[213]\\n\\nSuperintelligent AI may be able to improve itself to the point that humans could not control it.',\n",
       " 'This could, as physicist Stephen Hawking puts it, \"spell the end of the human race\".',\n",
       " 'Philosopher Nick Bostrom argues that sufficiently intelligent AI if it chooses actions based on achieving some goal, will exhibit convergent behavior such as acquiring resources or protecting itself from being shut down.',\n",
       " \"If this AI's goals do not fully reflect humanity's, it might need to harm humanity to acquire more resources or prevent itself from being shut down, ultimately to better achieve its goal.\",\n",
       " 'He concludes that AI poses a risk to mankind, however humble or \"friendly\" its stated goals might be.',\n",
       " '[215] Political scientist Charles T. Rubin argues that \"any sufficiently advanced benevolence may be indistinguishable from malevolence.\"',\n",
       " 'Humans should not assume machines or robots would treat us favorably because there is no a priori reason to believe that they would share our system of morality.',\n",
       " 'The opinion of experts and industry insiders is mixed, with sizable fractions both concerned and unconcerned by risk from eventual superhumanly-capable AI.',\n",
       " 'Stephen Hawking, Microsoft founder Bill Gates, history professor Yuval Noah Harari, and SpaceX founder Elon Musk have all expressed serious misgivings about the future of AI.',\n",
       " '[218] Prominent tech titans including Peter Thiel (Amazon Web Services) and Musk have committed more than $1 billion to nonprofit companies that champion responsible AI development, such as OpenAI and the Future of Life Institute.',\n",
       " '[219] Mark Zuckerberg (CEO, Facebook) has said that artificial intelligence is helpful in its current form and will continue to assist humans.',\n",
       " '[220] Other experts argue is that the risks are far enough in the future to not be worth researching, or that humans will be valuable from the perspective of a superintelligent machine.',\n",
       " '[221] Rodney Brooks, in particular, has said that \"malevolent\" AI is still centuries away.',\n",
       " '[x]\\n\\nFriendly AI are machines that have been designed from the beginning to minimize risks and to make choices that benefit humans.',\n",
       " 'Eliezer Yudkowsky, who coined the term, argues that developing friendly AI should be a higher research priority: it may require a large investment and it must be completed before AI becomes an existential risk.',\n",
       " 'Machines with intelligence have the potential to use their intelligence to make ethical decisions.',\n",
       " 'The field of machine ethics provides machines with ethical principles and procedures for resolving ethical dilemmas.',\n",
       " 'Machine ethics is also called machine morality, computational ethics or computational morality, and was founded at an AAAI symposium in 2005.',\n",
       " 'Other approaches include Wendell Wallach\\'s \"artificial moral agents\" and Stuart J. Russell\\'s three principles for developing provably beneficial machines.',\n",
       " 'The regulation of artificial intelligence is the development of public sector policies and laws for promoting and regulating artificial intelligence (AI); it is therefore related to the broader regulation of algorithms.',\n",
       " '[228] The regulatory and policy landscape for AI is an emerging issue in jurisdictions globally.',\n",
       " 'Between 2016 and 2020, more than 30 countries adopted dedicated strategies for AI.',\n",
       " 'Most EU member states had released national AI strategies, as had Canada, China, India, Japan, Mauritius, the Russian Federation, Saudi Arabia, United Arab Emirates, USA and Vietnam.',\n",
       " 'Others were in the process of elaborating their own AI strategy, including Bangladesh, Malaysia and Tunisia.',\n",
       " 'The Global Partnership on Artificial Intelligence was launched in June 2020, stating a need for AI to be developed in accordance with human rights and democratic values, to ensure public confidence and trust in the technology.',\n",
       " 'Henry Kissinger, Eric Schmidt, and Daniel Huttenlocher published a joint statement in November 2021 calling for a government commission to regulate AI.',\n",
       " '[230]\\n\\nThought-capable artificial beings have appeared as storytelling devices since antiquity,[15] and have been a persistent theme in science fiction.',\n",
       " \"A common trope in these works began with Mary Shelley's Frankenstein, where a human creation becomes a threat to its masters.\",\n",
       " \"This includes such works as Arthur C. Clarke's and Stanley Kubrick's 2001: A Space Odyssey (both 1968), with HAL 9000, the murderous computer in charge of the Discovery One spaceship, as well as The Terminator (1984) and The Matrix (1999).\",\n",
       " 'In contrast, the rare loyal robots such as Gort from The Day the Earth Stood Still (1951) and Bishop from Aliens (1986) are less prominent in popular culture.',\n",
       " 'Isaac Asimov introduced the Three Laws of Robotics in many books and stories, most notably the \"Multivac\" series about a super-intelligent computer of the same name.',\n",
       " \"Asimov's laws are often brought up during lay discussions of machine ethics; while almost all artificial intelligence researchers are familiar with Asimov's laws through popular culture, they generally consider the laws useless for many reasons, one of which is their ambiguity.\",\n",
       " 'Transhumanism (the merging of humans and machines) is explored in the manga Ghost in the Shell and the science-fiction series Dune.',\n",
       " 'Several works use AI to force us to confront the fundamental question of what makes us human, showing us artificial beings that have the ability to feel, and thus to suffer.',\n",
       " \"This appears in Karel Čapek's R.U.R., the films A.I.\",\n",
       " 'Artificial Intelligence and Ex Machina, as well as the novel Do Androids Dream of Electric Sheep?, by Philip K. Dick.',\n",
       " 'Dick considers the idea that our understanding of human subjectivity is altered by technology created with artificial intelligence.',\n",
       " \"As technology and research evolve and the world enters the third revolution of warfare following gunpowder and nuclear weapons, the artificial intelligence arms race ensues between the United States, China, and Russia, three countries with the world's top five highest military budgets.\",\n",
       " '[235] Intentions of being a world leader in AI research by 2030[236] have been declared by China\\'s leader Xi Jinping, and President Putin of Russia has stated that \"Whoever becomes the leader in this sphere will become the ruler of the world\".',\n",
       " \"[237] If Russia were to become the leader in AI research, President Putin has stated Russia's intent to share some of their research with the world so as to not monopolize the field,[237] similar to their current sharing of nuclear technologies, maintaining science diplomacy relations.\",\n",
       " 'The United States, China, and Russia, are some examples of countries that have taken their stances toward military artificial intelligence since as early as 2014, having established military programs to develop cyber weapons, control lethal autonomous weapons, and drones that can be used for surveillance.',\n",
       " 'President Putin announced that artificial intelligence is the future for all mankind [237] and recognizes the power and opportunities that the development and deployment of lethal autonomous weapons AI technology can hold in warfare and homeland security, as well as its threats.',\n",
       " \"President Putin's prediction that future wars will be fought using AI has started to come to fruition to an extent after Russia invaded Ukraine on 24 February 2022.\",\n",
       " 'The Ukrainian military is making use of the Turkish Bayraktar TB2-drones[238] that still require human operation to deploy laser-guided bombs but can take off, land, and cruise autonomously.',\n",
       " \"Ukraine has also been using Switchblade drones supplied by the US and receiving information gathering by the United States's own surveillance operations regarding battlefield intelligence and national security about Russia.\",\n",
       " '[239] Similarly, Russia can use AI to help analyze battlefield data from surveillance footage taken by drones.',\n",
       " \"Reports and images show that Russia's military has deployed KUB- BLA suicide drones [240] into Ukraine, with speculations of intentions to assassinate Ukrainian President Volodymyr Zelenskyy.\",\n",
       " 'As research in the AI realm progresses, there is pushback about the use of AI from the Campaign to Stop Killer Robots and world technology leaders have sent a petition[241] to the United Nations calling for new regulations on the development and use of AI technologies in 2017, including a ban on the use of lethal autonomous weapons due to ethical concerns for innocent civilian populations.',\n",
       " 'With the ever evolving cyber-attacks and generation of devices, AI can be used for threat detection and more effective response by risk prioritization.',\n",
       " 'With this tool, some challenges are also presented such as privacy, informed consent, and responsible use.',\n",
       " '[242] According to CISA, the cyberspace is difficult to secure for the following factors: the ability of malicious actors to operate from anywhere in the world, the linkages between cyberspace and physical systems, and the difficulty of reducing vulnerabilities and consequences in complex cyber networks.',\n",
       " '[243] With the increased technological advances of the world, the risk for wide scale consequential events rises.',\n",
       " 'Paradoxically, the ability to protect information and create a line of communication between the scientific and diplomatic community thrives.',\n",
       " 'The role of cybersecurity in diplomacy has become increasingly relevant, creating the term of cyber diplomacy – which is not uniformly defined and not synonymous with cyber defence.',\n",
       " '[244] Many nations have developed unique approaches to scientific diplomacy in cyberspace.',\n",
       " 'Dating back to 2011, when the Czech National Security Authority (NSA) was appointed as the national authority for the cyber agenda.',\n",
       " 'The role of cyber diplomacy strengthened in 2017 when the Czech Ministry of Foreign Affairs (MFA) detected a serious cyber campaign directed against its own computer networks.',\n",
       " '[245] In 2016, three cyber diplomats were deployed to Washington, D.C., Brussels and Tel Aviv, with the goal of establishing active international cooperation focused on engagement with the EU and NATO.',\n",
       " 'The main agenda for these scientific diplomacy efforts is to bolster research on artificial intelligence and how it can be utilized in cybersecurity research, development, and overall consumer trust.',\n",
       " '[246] CzechInvest is a key stakeholder in scientific diplomacy and cybersecurity.',\n",
       " 'For example, in September 2018, they organized a mission to Canada in September 2018 with a special focus on artificial intelligence.',\n",
       " 'The main goal of this particular mission was a promotional effort on behalf of Prague, attempting to establish it as a future knowledge hub for the industry for interested Canadian firms.',\n",
       " '[247]\\n\\nCybersecurity is recognized as a governmental task, dividing into three ministries of responsibility: the Federal Ministry of the Interior, the Federal Ministry of Defence, and the Federal Foreign Office.',\n",
       " '[248] These distinctions promoted the creation of various institutions, such as The German National Office for Information Security, The National Cyberdefence Centre, The German National Cyber Security Council, and The Cyber and Information Domain Service.',\n",
       " '[246] In 2018, a new strategy for artificial intelligence was established by the German government, with the creation of a German-French virtual research and innovation network,[249] holding opportunity for research expansion into cybersecurity.',\n",
       " 'The adoption of The Cybersecurity Strategy of the European Union – An Open, Safe and Secure Cyberspace document in 2013 by the European commission[246] pushed forth cybersecurity efforts integrated with scientific diplomacy and artificial intelligence.',\n",
       " 'Efforts are strong, as the EU funds various programs and institutions in the effort to bring science to diplomacy and bring diplomacy to science.',\n",
       " 'Some examples are the cyber security programme Competence Research Innovation (CONCORDIA), which brings together 14 member states,[250] Cybersecurity for Europe (CSE)- which brings together 43 partners involving 20 member states.',\n",
       " '[251] In addition, The European Network of Cybersecurity Centres and Competence Hub for Innovation and Operations (ECHO) gathers 30 partners with 15 member states[252] and SPARTA gathers 44 partners involving 14 member states.',\n",
       " '[253] These efforts reflect the overall goals of the EU, to innovate cybersecurity for defense and protection, establish a highly integrated cyberspace among many nations, and further contribute to the security of artificial intelligence.',\n",
       " '[246]\\n\\nWith the 2022 invasion of Ukraine, there has been a rise in malicious cyber activity against the United States,[254] Ukraine, and Russia.',\n",
       " 'A prominent and rare documented use of artificial intelligence in conflict is on behalf of Ukraine, using facial recognition software to uncover Russian assailants and identify Ukrainians killed in the ongoing war.',\n",
       " '[255] Though these governmental figures are not primarily focused on scientific and cyber diplomacy, other institutions are commenting on the use of artificial intelligence in cybersecurity with that focus.',\n",
       " \"For example, Georgetown University's Center for Security and Emerging Technology (CSET) has the Cyber-AI Project, with one goal being to attract policymakers' attention to the growing body of academic research, whichexposes the exploitive consequences of AI and machine-learning (ML) algorithms.\",\n",
       " '[256] This vulnerability can be a plausible explanation as to why Russia is not engaging in the use of AI in conflict per, Andrew Lohn, a senior fellow at CSET.',\n",
       " 'In addition to use on the battlefield, AI is being used by the Pentagon to analyze data from the war, analyzing to strengthen cybersecurity and warfare intelligence for the United States.',\n",
       " '[239][257]\\n\\nAs artificial intelligence grows and the overwhelming amount of news portrayed through cyberspace expands, it is becoming extremely overwhelming for a voter to know what to believe.',\n",
       " 'There are many intelligent codes, referred to as bots, written to portray people on social media with the goal of spreading miss information.',\n",
       " '[258] The 2016 USA election is a victim of such actions.',\n",
       " 'During the Hillary Clinton and Donald Trump campaign, artificial intelligent bots from Russia were spreading misinformation about the candidates in order to help the Trump campaign.',\n",
       " '[259] Analysts concluded that approximately 19% of Twitter tweets centered around the 2016 election were detected to come from bots.',\n",
       " '[259] YouTube in recent years has been used to spread political information as well.',\n",
       " 'Although there is no proof that the platform attempts to manipulate its viewers opinions, Youtubes AI algorithm recommends videos of similar variety.',\n",
       " \"[260] If a person begins to research right wing political podcasts, then YouTube's algorithm will recommend more right wing videos.\",\n",
       " \"[261] The uprising in a program called Deepfake, a software used to replicate someone's face and words, has also shown its potential threat.\",\n",
       " 'In 2018 a Deepfake video of Barack Obama was released saying words he claims to have never said.',\n",
       " '[262] While in a national election a Deepfake will quickly be debunked, the software has the capability to heavily sway a smaller local election.',\n",
       " 'This tool holds a lot of potential for spreading misinformation and is monitored with great attention.',\n",
       " '[263] Although it may be seen as a tool used for harm, AI can help enhance election campaigns as well.',\n",
       " 'AI bots can be programed to target articles with known misinformation.',\n",
       " 'The bots can then indicate what is being misinformed to help shine light on the truth.',\n",
       " 'AI can also be used to inform a person where each parts stands on a certain topic such as healthcare or climate change.',\n",
       " '[264] The political leaders of a nation have heavy sway on international affairs.',\n",
       " 'Thus, a political leader with a lack of interest for international collaborative scientific advancement can have a negative impact in the scientific diplomacy of that nation[265]\\n\\nThe use of artificial intelligence (AI) has subtly grown to become part of everyday life.',\n",
       " 'It is used every day in facial recognition software.',\n",
       " 'It is the first measure of security for many companies in the form of a biometric authentication.',\n",
       " \"This means of authentication allows even the most official organizations such as the United States Internal Revenue Service to verify a person's identity [266] via a database generated from machine learning.\",\n",
       " \"As of the year 2022, the United States IRS requires those who do not undergo a live interview with an agent to complete a biometric verification of their identity via ID.me's facial recognition tool.\",\n",
       " '[266]\\n\\nIn Japan and South Korea, artificial intelligence software is used in the instruction of English language via the company Riiid.',\n",
       " '[267] Riiid is a Korean education company working alongside Japan to give students the means to learn and use their English communication skills via engaging with artificial intelligence in a live chat.',\n",
       " '[267] Riid is not the only company to do this.',\n",
       " 'An American company such as Duolingo is very well known for their automated teaching of 41 languages.',\n",
       " 'Babbel, a German language learning program also uses artificial intelligence in its teaching automation, allowing for European students to learn vital communication skills needed in social, economic, and diplomatic settings.',\n",
       " 'Artificial intelligence will also automate the routine tasks that teachers need to do such as grading, taking attendance, and handling routine student inquiries.',\n",
       " '[268] This enables the teacher to carry on with the complexities of teaching that an automated machine cannot handle.',\n",
       " 'These include creating exams, explaining complex material in a way that will benefit students individually and handling unique questions from students.',\n",
       " 'Unlike the human brain, which possess generalized intelligence, the specialized intelligence of AI can serve as a means of support to physicians internationally.',\n",
       " 'The medical field has a diverse and profound amount of data in which AI can employ to generate a predictive diagnosis.',\n",
       " 'Researchers at an Oxford hospital have developed artificial intelligence that can diagnose heart scans for heart disease and cancer.',\n",
       " '[269] This artificial intelligence can pick up diminutive details in the scans that doctors may miss.',\n",
       " 'As such, artificial intelligence in medicine will better the industry, giving doctors the means to precisely diagnose their patients using the tools available.',\n",
       " 'The artificial intelligence algorithms will also be used to further improve diagnosis over time, via an application of machine learning called precision medicine.',\n",
       " '[270] Furthermore, the narrow application of artificial intelligence can use \"deep learning\" in order to improve medical image analysis.',\n",
       " 'In radiology imaging, AI uses deep learning algorithms to identify potentially cancerous lesions which is an important process assisting in early diagnosis.',\n",
       " '[271]\\n\\nData analysis is a fundamental property of artificial intelligence that enables it to be used in every facet of life from search results to the way people buy product.',\n",
       " 'According to NewVantage Partners,[272] over 90% of top businesses have ongoing investments in artificial intelligence.',\n",
       " \"According to IBM, one of the world's leaders in technology, 45% of respondents from companies with over 1,000 employees have adopted AI.\",\n",
       " '[273] Recent data shows that the business market [274] for artificial intelligence during the year 2020 was valued at $51.08 billion.',\n",
       " 'The business market for artificial intelligence is projected to be over $640.3 billion by the year 2028.',\n",
       " '[274] To prevent harm, AI-deploying organizations need to play a central role in creating and deploying trustworthy AI in line with the principles of trustworthy AI,[275] and take accountability to mitigate the risks.',\n",
       " \"[276]\\n\\nWith the exponential surge of artificial technology and communication, the distribution of one's ideals and values has been evident in daily life.\",\n",
       " 'Digital information is spread via communication apps such as Whatsapp, Facebook/Meta, Snapchat, Instagram and Twitter.',\n",
       " 'However, it is known that these sites relay specific information corresponding to data analysis.',\n",
       " \"If a right-winged individual were to do a google search, Google's algorithms would target that individual and relay data pertinent to that target audience.\",\n",
       " 'US President Bill Clinton noted in 2000:\"In the new century, liberty will spread by cell phone and cable modem.',\n",
       " '[...] We know how much the Internet has changed America, and we are already an open society.',\n",
       " '[277] However, when the private sector uses artificial intelligence to gather data, a shift in power from the state to the private sector may be seen.',\n",
       " 'This shift in power, specifically in large technological corporations, could profoundly change how diplomacy functions in society.',\n",
       " 'The rise in digital technology and usage of artificial technology enabled the private sector to gather immense data on the public, which is then further categorized by race, location, age, gender, etc.',\n",
       " '[278] The New York Times calculates that \"the ten largest tech firms, which have become gatekeepers in commerce, finance, entertainment and communications, now have a combined market capitalization of more than $10 trillion.',\n",
       " \"In gross domestic product terms, that would rank them as the world's third-largest economy.\",\n",
       " '\"[279] Beyond the general lobbying of congressmen/congresswomen, companies such as Facebook/Meta or Google use collected data in order to reach their intended audiences with targeted information.',\n",
       " '[279]\\n\\nMultiple nations around the globe employ artificial intelligence to assist with their foreign policy decisions.',\n",
       " 'The Chinese Department of External Security Affairs – under the Ministry of Foreign Affairs – uses AI to review almost all its foreign investment projects for risk mitigation.',\n",
       " '[280] The government of China plans to utilize artificial intelligence in its $900 billion global infrastructure development plan, called the \"Belt and Road Initiative\" for political, economic, and environmental risk alleviation.',\n",
       " '[281]\\n\\nOver 200 applications of artificial intelligence are being used by over 46 United Nations agencies, in sectors ranging from health care dealing with issues such as combating COVID-19 to smart agriculture, to assist the UN in political and diplomatic relations.',\n",
       " '[282] One example is the use of AI by the UN Global Pulse program to model the effect of the spread of COVID-19 on internally displaced people (IDP) and refugee settlements to assist them in creating an appropriate global health policy.',\n",
       " '[283][284]\\n\\nNovel AI tools such as remote sensing can also be employed by diplomats for collecting and analyzing data and near-real-time tracking of objects such as troop or refugee movements along borders in violent conflict zones.',\n",
       " '[283][285]\\n\\nArtificial intelligence can be used to mitigate vital cross-national diplomatic talks to prevent translation errors caused by human translators.',\n",
       " '[286] A major example is the 2021 Anchorage meetings held between US and China aimed at stabilizing foreign relations, only for it to have the opposite effect, increasing tension and aggressiveness between the two nations, due to translation errors caused by human translators.',\n",
       " '[287] In the meeting, when United States National Security Advisor to President Joe Biden, Jacob Jeremiah Sullivan stated, \"We do not seek conflict, but we welcome stiff competition and we will always stand up for our principles, for our people, and for our friends\", it was mistranslated into Chinese as \"we will face competition between us, and will present our stance in a very clear manner\", adding an aggressive tone to the speech.',\n",
       " \"[287] AI's ability for fast and efficient natural language processing and real-time translation and transliteration makes it an important tool for foreign-policy communication between nations and prevents unintended mistranslation.\",\n",
       " '[288]\\n• This article incorporates text from a free content work.',\n",
       " 'Licensed under C-BY-SA 3.0 IGO Text taken from UNESCO Science Report: the Race Against Time for Smarter Development., Schneegans, S., T. Straza and J. Lewis (eds), UNESCO.',\n",
       " 'To learn how to add open license text to Wikipedia articles, please see this how-to page.',\n",
       " 'For information on reusing text from Wikipedia, please see the terms of use.',\n",
       " 'These were the four the most widely used AI textbooks in 2008:\\n• None Thomason, Richmond.',\n",
       " '\"Logic and Artificial Intelligence\".',\n",
       " 'In Zalta, Edward N.',\n",
       " '(ed.).',\n",
       " 'Stanford Encyclopedia of Philosophy.',\n",
       " '• Artificial Intelligence.',\n",
       " 'BBC Radio 4 discussion with John Agar, Alison Adam & Igor Aleksander (In Our Time, 8 December 2005).']"
      ]
     },
     "execution_count": 75,
     "metadata": {},
     "output_type": "execute_result"
    }
   ],
   "source": [
    "original_sentences"
   ]
  },
  {
   "cell_type": "code",
   "execution_count": 60,
   "id": "31cecb61",
   "metadata": {},
   "outputs": [
    {
     "data": {
      "text/plain": [
       "13"
      ]
     },
     "execution_count": 60,
     "metadata": {},
     "output_type": "execute_result"
    }
   ],
   "source": [
    "len('\"Logic and Artificial Intelligence.\"')-len(\"Artificial intelligence\")"
   ]
  },
  {
   "cell_type": "code",
   "execution_count": 65,
   "id": "7cec1745",
   "metadata": {},
   "outputs": [
    {
     "data": {
      "text/plain": [
       "'logic artificial intelligence'"
      ]
     },
     "execution_count": 65,
     "metadata": {},
     "output_type": "execute_result"
    }
   ],
   "source": [
    "preprocessing('\"Logic and Artificial Intelligence.\"')"
   ]
  },
  {
   "cell_type": "markdown",
   "id": "0dbced36",
   "metadata": {},
   "source": [
    "- the finale chat bot about AI"
   ]
  },
  {
   "cell_type": "code",
   "execution_count": 94,
   "id": "a0a5f64f",
   "metadata": {
    "scrolled": true
   },
   "outputs": [
    {
     "name": "stdout",
     "output_type": "stream",
     "text": [
      "Hello! I am a chatbot and I will answer your questions about artificial Intelligence\n",
      "hi\n",
      "Chatbot: hi\n",
      "what is artificial Intelligence\n",
      "Chatbot:\n",
      "Artificial intelligence (AI) is intelligence demonstrated by machines, as opposed to the natural intelligence displayed by animals including humans.\n",
      "what is AI\n",
      "Chatbot:\n",
      "[u][48]\n",
      "\n",
      "The issue is not resolved: sub-symbolic reasoning can make many of the same inscrutable mistakes that human intuition does, such as algorithmic bias.\n",
      "quit\n",
      "Chatbot: Bye! I will see you soon\n"
     ]
    }
   ],
   "source": [
    "cont = True\n",
    "print('Hello! I am a chatbot and I will answer your questions about artificial Intelligence')\n",
    "while cont == True:\n",
    "    user_text = input()\n",
    "    if user_text != 'quit':\n",
    "        if welcome_message(user_text) != None:\n",
    "            print('Chatbot: ' + welcome_message(user_text))\n",
    "        else:\n",
    "            print('Chatbot:')\n",
    "            print(answer(user_text))  \n",
    "    else:\n",
    "        cont = False\n",
    "        print('Chatbot: Bye! I will see you soon')"
   ]
  },
  {
   "cell_type": "markdown",
   "id": "15a99c48",
   "metadata": {},
   "source": [
    "## draft part for test and try methods"
   ]
  },
  {
   "cell_type": "code",
   "execution_count": 12,
   "id": "26ff7f9b",
   "metadata": {},
   "outputs": [],
   "source": [
    "from sklearn.feature_extraction.text import TfidfVectorizer\n",
    "\n",
    "vectorizer = TfidfVectorizer()\n",
    "sentences = ['This is the first document.',\n",
    "             'This document is the second document.',\n",
    "             'And this is the third document.',\n",
    "             'Is this the first document?']\n",
    "sentences.append(\"where is the first one?\")\n",
    "X = vectorizer.fit_transform(sentences)"
   ]
  },
  {
   "cell_type": "code",
   "execution_count": 13,
   "id": "adc726aa",
   "metadata": {},
   "outputs": [
    {
     "name": "stdout",
     "output_type": "stream",
     "text": [
      "['and', 'document', 'first', 'is', 'one', 'second', 'the', 'third', 'this', 'where']\n"
     ]
    }
   ],
   "source": [
    "print(vectorizer.get_feature_names())"
   ]
  },
  {
   "cell_type": "code",
   "execution_count": 14,
   "id": "d116e021",
   "metadata": {},
   "outputs": [
    {
     "data": {
      "text/plain": [
       "array([2.09861229, 1.18232156, 1.40546511, 1.        , 2.09861229,\n",
       "       2.09861229, 1.        , 2.09861229, 1.18232156, 2.09861229])"
      ]
     },
     "execution_count": 14,
     "metadata": {},
     "output_type": "execute_result"
    }
   ],
   "source": [
    "vectorizer.idf_  # result 1 means that the terme is in all sentences"
   ]
  },
  {
   "cell_type": "code",
   "execution_count": 15,
   "id": "474d1925",
   "metadata": {},
   "outputs": [
    {
     "name": "stdout",
     "output_type": "stream",
     "text": [
      "[0.         0.64612571 0.         0.2732445  0.         0.57343426\n",
      " 0.2732445  0.         0.32306286 0.        ]\n"
     ]
    }
   ],
   "source": [
    "print(X.toarray()[1])"
   ]
  },
  {
   "cell_type": "code",
   "execution_count": 16,
   "id": "c06fa670",
   "metadata": {},
   "outputs": [
    {
     "data": {
      "text/plain": [
       "(5, 10)"
      ]
     },
     "execution_count": 16,
     "metadata": {},
     "output_type": "execute_result"
    }
   ],
   "source": [
    "X.shape"
   ]
  },
  {
   "cell_type": "code",
   "execution_count": 17,
   "id": "11d92d48",
   "metadata": {},
   "outputs": [
    {
     "data": {
      "text/plain": [
       "scipy.sparse.csr.csr_matrix"
      ]
     },
     "execution_count": 17,
     "metadata": {},
     "output_type": "execute_result"
    }
   ],
   "source": [
    "type(X)"
   ]
  },
  {
   "cell_type": "code",
   "execution_count": 3,
   "id": "4644df5b",
   "metadata": {},
   "outputs": [
    {
     "data": {
      "text/plain": [
       "array([[0.        , 0.45436615, 0.54012022, 0.38429998, 0.        ,\n",
       "        0.        , 0.38429998, 0.        , 0.45436615, 0.        ],\n",
       "       [0.        , 0.64612571, 0.        , 0.2732445 , 0.        ,\n",
       "        0.57343426, 0.2732445 , 0.        , 0.32306286, 0.        ],\n",
       "       [0.        , 0.45436615, 0.54012022, 0.38429998, 0.        ,\n",
       "        0.        , 0.38429998, 0.        , 0.45436615, 0.        ]])"
      ]
     },
     "execution_count": 3,
     "metadata": {},
     "output_type": "execute_result"
    }
   ],
   "source": [
    "import numpy as np\n",
    "X_test_similarity = X[0:2]\n",
    "X_test_similarity = X_test_similarity.toarray()\n",
    "X_test_similarity = np.concatenate((X_test_similarity, X_test_similarity[0].reshape(1,-1)), axis = 0)\n",
    "X_test_similarity # containe the first and the second phrase and a copy of the first one"
   ]
  },
  {
   "cell_type": "code",
   "execution_count": 4,
   "id": "3863bdb5",
   "metadata": {},
   "outputs": [
    {
     "data": {
      "text/plain": [
       "array([[1.]])"
      ]
     },
     "execution_count": 4,
     "metadata": {},
     "output_type": "execute_result"
    }
   ],
   "source": [
    "cosine_similarity(X_test_similarity[0].reshape(1, -1),X[3].reshape(1,-1))"
   ]
  },
  {
   "cell_type": "markdown",
   "id": "2084094f",
   "metadata": {},
   "source": [
    "* the simelarity is 1 when the two operand are the same"
   ]
  },
  {
   "cell_type": "code",
   "execution_count": 20,
   "id": "8e01a141",
   "metadata": {},
   "outputs": [
    {
     "name": "stdout",
     "output_type": "stream",
     "text": [
      "[[0.42728324 0.15284579 0.15165855]]\n",
      "0\n",
      "Question : where is the first one?\n",
      "The bot : This is the first document.\n"
     ]
    }
   ],
   "source": [
    "# my test\n",
    "# To find the most related documents, we can use cosine_similarites.argsort() \n",
    "# to get the most related document similarities values.\n",
    "\n",
    "similarity = cosine_similarity(X[-1],X[:-2])\n",
    "# similarity is a 2d array,we take the first and unique array,argsort sort ascendently,return indexes.\n",
    "sim_index = similarity.argsort()[0][-1]\n",
    "print(similarity)\n",
    "print(sim_index)\n",
    "print(f\"Question : {sentences[-1]}\")\n",
    "print(f\"The bot : {sentences[sim_index]}\")"
   ]
  },
  {
   "cell_type": "code",
   "execution_count": 35,
   "id": "deabb83c",
   "metadata": {},
   "outputs": [
    {
     "data": {
      "text/plain": [
       "numpy.int64"
      ]
     },
     "execution_count": 35,
     "metadata": {},
     "output_type": "execute_result"
    }
   ],
   "source": [
    "type(similarity.argsort()[0][0])"
   ]
  },
  {
   "cell_type": "code",
   "execution_count": 36,
   "id": "59dcea77",
   "metadata": {},
   "outputs": [
    {
     "data": {
      "text/plain": [
       "array([[2, 1, 0]], dtype=int64)"
      ]
     },
     "execution_count": 36,
     "metadata": {},
     "output_type": "execute_result"
    }
   ],
   "source": [
    "similarity.argsort()"
   ]
  },
  {
   "cell_type": "code",
   "execution_count": null,
   "id": "fd54dd2d",
   "metadata": {},
   "outputs": [],
   "source": []
  }
 ],
 "metadata": {
  "kernelspec": {
   "display_name": "Python 3 (ipykernel)",
   "language": "python",
   "name": "python3"
  },
  "language_info": {
   "codemirror_mode": {
    "name": "ipython",
    "version": 3
   },
   "file_extension": ".py",
   "mimetype": "text/x-python",
   "name": "python",
   "nbconvert_exporter": "python",
   "pygments_lexer": "ipython3",
   "version": "3.9.7"
  }
 },
 "nbformat": 4,
 "nbformat_minor": 5
}
